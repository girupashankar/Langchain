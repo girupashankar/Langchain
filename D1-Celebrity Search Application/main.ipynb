{
 "cells": [
  {
   "cell_type": "code",
   "execution_count": 1,
   "metadata": {},
   "outputs": [
    {
     "name": "stdout",
     "output_type": "stream",
     "text": [
      "Defaulting to user installation because normal site-packages is not writeableNote: you may need to restart the kernel to use updated packages.\n",
      "\n",
      "Requirement already satisfied: langchain in c:\\users\\girupa shankar\\appdata\\roaming\\python\\python311\\site-packages (0.1.12)\n",
      "Requirement already satisfied: transformers in c:\\users\\girupa shankar\\appdata\\roaming\\python\\python311\\site-packages (4.31.0)\n",
      "Requirement already satisfied: PyYAML>=5.3 in c:\\users\\girupa shankar\\appdata\\roaming\\python\\python311\\site-packages (from langchain) (6.0.1)\n",
      "Requirement already satisfied: SQLAlchemy<3,>=1.4 in c:\\users\\girupa shankar\\appdata\\roaming\\python\\python311\\site-packages (from langchain) (2.0.29)\n",
      "Requirement already satisfied: aiohttp<4.0.0,>=3.8.3 in c:\\users\\girupa shankar\\appdata\\roaming\\python\\python311\\site-packages (from langchain) (3.9.3)\n",
      "Requirement already satisfied: dataclasses-json<0.7,>=0.5.7 in c:\\users\\girupa shankar\\appdata\\roaming\\python\\python311\\site-packages (from langchain) (0.6.4)\n",
      "Requirement already satisfied: jsonpatch<2.0,>=1.33 in c:\\users\\girupa shankar\\appdata\\roaming\\python\\python311\\site-packages (from langchain) (1.33)\n",
      "Requirement already satisfied: langchain-community<0.1,>=0.0.28 in c:\\users\\girupa shankar\\appdata\\roaming\\python\\python311\\site-packages (from langchain) (0.0.28)\n",
      "Requirement already satisfied: langchain-core<0.2.0,>=0.1.31 in c:\\users\\girupa shankar\\appdata\\roaming\\python\\python311\\site-packages (from langchain) (0.1.32)\n",
      "Requirement already satisfied: langchain-text-splitters<0.1,>=0.0.1 in c:\\users\\girupa shankar\\appdata\\roaming\\python\\python311\\site-packages (from langchain) (0.0.1)\n",
      "Requirement already satisfied: langsmith<0.2.0,>=0.1.17 in c:\\users\\girupa shankar\\appdata\\roaming\\python\\python311\\site-packages (from langchain) (0.1.29)\n",
      "Requirement already satisfied: numpy<2,>=1 in c:\\programdata\\anaconda3\\lib\\site-packages (from langchain) (1.24.3)\n",
      "Requirement already satisfied: pydantic<3,>=1 in c:\\programdata\\anaconda3\\lib\\site-packages (from langchain) (1.10.8)\n",
      "Requirement already satisfied: requests<3,>=2 in c:\\programdata\\anaconda3\\lib\\site-packages (from langchain) (2.31.0)\n",
      "Requirement already satisfied: tenacity<9.0.0,>=8.1.0 in c:\\programdata\\anaconda3\\lib\\site-packages (from langchain) (8.2.2)\n",
      "Requirement already satisfied: filelock in c:\\users\\girupa shankar\\appdata\\roaming\\python\\python311\\site-packages (from transformers) (3.13.1)\n",
      "Requirement already satisfied: huggingface-hub<1.0,>=0.14.1 in c:\\users\\girupa shankar\\appdata\\roaming\\python\\python311\\site-packages (from transformers) (0.22.2)\n",
      "Requirement already satisfied: packaging>=20.0 in c:\\users\\girupa shankar\\appdata\\roaming\\python\\python311\\site-packages (from transformers) (23.2)\n",
      "Requirement already satisfied: regex!=2019.12.17 in c:\\programdata\\anaconda3\\lib\\site-packages (from transformers) (2022.7.9)\n",
      "Collecting tokenizers!=0.11.3,<0.14,>=0.11.1 (from transformers)\n",
      "  Obtaining dependency information for tokenizers!=0.11.3,<0.14,>=0.11.1 from https://files.pythonhosted.org/packages/62/41/93d3135ec30f596a71490ce11a73572190fe80e85a2aea18f116a520cc41/tokenizers-0.13.3-cp311-cp311-win_amd64.whl.metadata\n",
      "  Downloading tokenizers-0.13.3-cp311-cp311-win_amd64.whl.metadata (6.9 kB)\n",
      "Requirement already satisfied: safetensors>=0.3.1 in c:\\programdata\\anaconda3\\lib\\site-packages (from transformers) (0.3.2)\n",
      "Requirement already satisfied: tqdm>=4.27 in c:\\users\\girupa shankar\\appdata\\roaming\\python\\python311\\site-packages (from transformers) (4.66.2)\n",
      "Requirement already satisfied: aiosignal>=1.1.2 in c:\\programdata\\anaconda3\\lib\\site-packages (from aiohttp<4.0.0,>=3.8.3->langchain) (1.2.0)\n",
      "Requirement already satisfied: attrs>=17.3.0 in c:\\users\\girupa shankar\\appdata\\roaming\\python\\python311\\site-packages (from aiohttp<4.0.0,>=3.8.3->langchain) (23.2.0)\n",
      "Requirement already satisfied: frozenlist>=1.1.1 in c:\\programdata\\anaconda3\\lib\\site-packages (from aiohttp<4.0.0,>=3.8.3->langchain) (1.3.3)\n",
      "Requirement already satisfied: multidict<7.0,>=4.5 in c:\\programdata\\anaconda3\\lib\\site-packages (from aiohttp<4.0.0,>=3.8.3->langchain) (6.0.2)\n",
      "Requirement already satisfied: yarl<2.0,>=1.0 in c:\\programdata\\anaconda3\\lib\\site-packages (from aiohttp<4.0.0,>=3.8.3->langchain) (1.8.1)\n",
      "Requirement already satisfied: marshmallow<4.0.0,>=3.18.0 in c:\\users\\girupa shankar\\appdata\\roaming\\python\\python311\\site-packages (from dataclasses-json<0.7,>=0.5.7->langchain) (3.21.1)\n",
      "Requirement already satisfied: typing-inspect<1,>=0.4.0 in c:\\users\\girupa shankar\\appdata\\roaming\\python\\python311\\site-packages (from dataclasses-json<0.7,>=0.5.7->langchain) (0.9.0)\n",
      "Requirement already satisfied: fsspec>=2023.5.0 in c:\\users\\girupa shankar\\appdata\\roaming\\python\\python311\\site-packages (from huggingface-hub<1.0,>=0.14.1->transformers) (2024.2.0)\n",
      "Requirement already satisfied: typing-extensions>=3.7.4.3 in c:\\users\\girupa shankar\\appdata\\roaming\\python\\python311\\site-packages (from huggingface-hub<1.0,>=0.14.1->transformers) (4.10.0)\n",
      "Requirement already satisfied: jsonpointer>=1.9 in c:\\programdata\\anaconda3\\lib\\site-packages (from jsonpatch<2.0,>=1.33->langchain) (2.1)\n",
      "Requirement already satisfied: anyio<5,>=3 in c:\\programdata\\anaconda3\\lib\\site-packages (from langchain-core<0.2.0,>=0.1.31->langchain) (3.5.0)\n",
      "Requirement already satisfied: orjson<4.0.0,>=3.9.14 in c:\\users\\girupa shankar\\appdata\\roaming\\python\\python311\\site-packages (from langsmith<0.2.0,>=0.1.17->langchain) (3.9.15)\n",
      "Requirement already satisfied: charset-normalizer<4,>=2 in c:\\programdata\\anaconda3\\lib\\site-packages (from requests<3,>=2->langchain) (2.0.4)\n",
      "Requirement already satisfied: idna<4,>=2.5 in c:\\programdata\\anaconda3\\lib\\site-packages (from requests<3,>=2->langchain) (3.4)\n",
      "Requirement already satisfied: urllib3<3,>=1.21.1 in c:\\programdata\\anaconda3\\lib\\site-packages (from requests<3,>=2->langchain) (1.26.16)\n",
      "Requirement already satisfied: certifi>=2017.4.17 in c:\\programdata\\anaconda3\\lib\\site-packages (from requests<3,>=2->langchain) (2023.7.22)\n",
      "Requirement already satisfied: greenlet!=0.4.17 in c:\\programdata\\anaconda3\\lib\\site-packages (from SQLAlchemy<3,>=1.4->langchain) (2.0.1)\n",
      "Requirement already satisfied: colorama in c:\\programdata\\anaconda3\\lib\\site-packages (from tqdm>=4.27->transformers) (0.4.6)\n",
      "Requirement already satisfied: sniffio>=1.1 in c:\\programdata\\anaconda3\\lib\\site-packages (from anyio<5,>=3->langchain-core<0.2.0,>=0.1.31->langchain) (1.2.0)\n",
      "Requirement already satisfied: mypy-extensions>=0.3.0 in c:\\programdata\\anaconda3\\lib\\site-packages (from typing-inspect<1,>=0.4.0->dataclasses-json<0.7,>=0.5.7->langchain) (1.0.0)\n",
      "Downloading tokenizers-0.13.3-cp311-cp311-win_amd64.whl (3.5 MB)\n",
      "   ---------------------------------------- 0.0/3.5 MB ? eta -:--:--\n",
      "   ---------------------------------------- 0.0/3.5 MB ? eta -:--:--\n",
      "   ---------------------------------------- 0.0/3.5 MB ? eta -:--:--\n",
      "   ---------------------------------------- 0.0/3.5 MB 435.7 kB/s eta 0:00:08\n",
      "    --------------------------------------- 0.1/3.5 MB 409.6 kB/s eta 0:00:09\n",
      "   - -------------------------------------- 0.1/3.5 MB 476.3 kB/s eta 0:00:08\n",
      "   - -------------------------------------- 0.1/3.5 MB 476.3 kB/s eta 0:00:08\n",
      "   - -------------------------------------- 0.1/3.5 MB 500.5 kB/s eta 0:00:07\n",
      "   -- ------------------------------------- 0.2/3.5 MB 556.2 kB/s eta 0:00:06\n",
      "   -- ------------------------------------- 0.2/3.5 MB 535.8 kB/s eta 0:00:07\n",
      "   -- ------------------------------------- 0.2/3.5 MB 580.1 kB/s eta 0:00:06\n",
      "   --- ------------------------------------ 0.3/3.5 MB 607.9 kB/s eta 0:00:06\n",
      "   ---- ----------------------------------- 0.4/3.5 MB 696.3 kB/s eta 0:00:05\n",
      "   ---- ----------------------------------- 0.4/3.5 MB 752.1 kB/s eta 0:00:05\n",
      "   ----- ---------------------------------- 0.5/3.5 MB 793.0 kB/s eta 0:00:04\n",
      "   ------ --------------------------------- 0.5/3.5 MB 852.0 kB/s eta 0:00:04\n",
      "   ------- -------------------------------- 0.6/3.5 MB 893.0 kB/s eta 0:00:04\n",
      "   -------- ------------------------------- 0.7/3.5 MB 947.4 kB/s eta 0:00:03\n",
      "   -------- ------------------------------- 0.7/3.5 MB 969.4 kB/s eta 0:00:03\n",
      "   --------- ------------------------------ 0.8/3.5 MB 957.2 kB/s eta 0:00:03\n",
      "   ---------- ----------------------------- 0.9/3.5 MB 983.0 kB/s eta 0:00:03\n",
      "   ---------- ----------------------------- 0.9/3.5 MB 999.6 kB/s eta 0:00:03\n",
      "   ----------- ---------------------------- 1.0/3.5 MB 1.0 MB/s eta 0:00:03\n",
      "   ------------ --------------------------- 1.1/3.5 MB 1.1 MB/s eta 0:00:03\n",
      "   ------------- -------------------------- 1.1/3.5 MB 1.1 MB/s eta 0:00:03\n",
      "   ------------- -------------------------- 1.2/3.5 MB 1.1 MB/s eta 0:00:03\n",
      "   -------------- ------------------------- 1.2/3.5 MB 1.1 MB/s eta 0:00:03\n",
      "   -------------- ------------------------- 1.3/3.5 MB 1.1 MB/s eta 0:00:03\n",
      "   --------------- ------------------------ 1.3/3.5 MB 1.0 MB/s eta 0:00:03\n",
      "   --------------- ------------------------ 1.4/3.5 MB 1.1 MB/s eta 0:00:02\n",
      "   ---------------- ----------------------- 1.4/3.5 MB 1.1 MB/s eta 0:00:02\n",
      "   ----------------- ---------------------- 1.5/3.5 MB 1.1 MB/s eta 0:00:02\n",
      "   ----------------- ---------------------- 1.6/3.5 MB 1.1 MB/s eta 0:00:02\n",
      "   ------------------ --------------------- 1.6/3.5 MB 1.1 MB/s eta 0:00:02\n",
      "   ------------------ --------------------- 1.6/3.5 MB 1.1 MB/s eta 0:00:02\n",
      "   ------------------ --------------------- 1.6/3.5 MB 1.0 MB/s eta 0:00:02\n",
      "   ------------------- -------------------- 1.7/3.5 MB 1.0 MB/s eta 0:00:02\n",
      "   ------------------- -------------------- 1.7/3.5 MB 1.0 MB/s eta 0:00:02\n",
      "   -------------------- ------------------- 1.7/3.5 MB 1.0 MB/s eta 0:00:02\n",
      "   -------------------- ------------------- 1.8/3.5 MB 1.0 MB/s eta 0:00:02\n",
      "   --------------------- ------------------ 1.8/3.5 MB 1.0 MB/s eta 0:00:02\n",
      "   --------------------- ------------------ 1.9/3.5 MB 1.0 MB/s eta 0:00:02\n",
      "   ---------------------- ----------------- 2.0/3.5 MB 1.0 MB/s eta 0:00:02\n",
      "   ----------------------- ---------------- 2.0/3.5 MB 1.1 MB/s eta 0:00:02\n",
      "   ------------------------ --------------- 2.1/3.5 MB 1.1 MB/s eta 0:00:02\n",
      "   ------------------------- -------------- 2.2/3.5 MB 1.1 MB/s eta 0:00:02\n",
      "   ------------------------- -------------- 2.2/3.5 MB 1.1 MB/s eta 0:00:02\n",
      "   ------------------------- -------------- 2.2/3.5 MB 1.1 MB/s eta 0:00:02\n",
      "   -------------------------- ------------- 2.3/3.5 MB 1.1 MB/s eta 0:00:02\n",
      "   --------------------------- ------------ 2.4/3.5 MB 1.1 MB/s eta 0:00:02\n",
      "   --------------------------- ------------ 2.4/3.5 MB 1.1 MB/s eta 0:00:02\n",
      "   ---------------------------- ----------- 2.5/3.5 MB 1.1 MB/s eta 0:00:01\n",
      "   ---------------------------- ----------- 2.5/3.5 MB 1.1 MB/s eta 0:00:01\n",
      "   ----------------------------- ---------- 2.5/3.5 MB 1.1 MB/s eta 0:00:01\n",
      "   ------------------------------ --------- 2.6/3.5 MB 1.1 MB/s eta 0:00:01\n",
      "   ------------------------------ --------- 2.7/3.5 MB 1.1 MB/s eta 0:00:01\n",
      "   ------------------------------- -------- 2.7/3.5 MB 1.1 MB/s eta 0:00:01\n",
      "   -------------------------------- ------- 2.8/3.5 MB 1.1 MB/s eta 0:00:01\n",
      "   -------------------------------- ------- 2.8/3.5 MB 1.1 MB/s eta 0:00:01\n",
      "   --------------------------------- ------ 2.9/3.5 MB 1.1 MB/s eta 0:00:01\n",
      "   --------------------------------- ------ 2.9/3.5 MB 1.1 MB/s eta 0:00:01\n",
      "   ---------------------------------- ----- 3.0/3.5 MB 1.1 MB/s eta 0:00:01\n",
      "   ---------------------------------- ----- 3.0/3.5 MB 1.1 MB/s eta 0:00:01\n",
      "   ----------------------------------- ---- 3.1/3.5 MB 1.1 MB/s eta 0:00:01\n",
      "   ------------------------------------ --- 3.2/3.5 MB 1.1 MB/s eta 0:00:01\n",
      "   ------------------------------------- -- 3.2/3.5 MB 1.1 MB/s eta 0:00:01\n",
      "   -------------------------------------- - 3.3/3.5 MB 1.1 MB/s eta 0:00:01\n",
      "   -------------------------------------- - 3.4/3.5 MB 1.1 MB/s eta 0:00:01\n",
      "   ---------------------------------------  3.5/3.5 MB 1.1 MB/s eta 0:00:01\n",
      "   ---------------------------------------- 3.5/3.5 MB 1.1 MB/s eta 0:00:00\n",
      "Installing collected packages: tokenizers\n",
      "  Attempting uninstall: tokenizers\n",
      "    Found existing installation: tokenizers 0.19.1\n",
      "    Uninstalling tokenizers-0.19.1:\n",
      "      Successfully uninstalled tokenizers-0.19.1\n",
      "Successfully installed tokenizers-0.13.3\n"
     ]
    }
   ],
   "source": [
    "pip install langchain transformers"
   ]
  },
  {
   "cell_type": "code",
   "execution_count": 6,
   "metadata": {},
   "outputs": [],
   "source": [
    "import transformers, langchain"
   ]
  },
  {
   "cell_type": "code",
   "execution_count": 7,
   "metadata": {},
   "outputs": [],
   "source": [
    "model_id=\"meta-llama/Meta-Llama-3-8B\""
   ]
  },
  {
   "cell_type": "code",
   "execution_count": 8,
   "metadata": {},
   "outputs": [
    {
     "ename": "ModuleNotFoundError",
     "evalue": "No module named 'langchain.skills'",
     "output_type": "error",
     "traceback": [
      "\u001b[1;31m---------------------------------------------------------------------------\u001b[0m",
      "\u001b[1;31mModuleNotFoundError\u001b[0m                       Traceback (most recent call last)",
      "Cell \u001b[1;32mIn[8], line 1\u001b[0m\n\u001b[1;32m----> 1\u001b[0m \u001b[38;5;28;01mfrom\u001b[39;00m \u001b[38;5;21;01mlangchain\u001b[39;00m\u001b[38;5;21;01m.\u001b[39;00m\u001b[38;5;21;01mskills\u001b[39;00m \u001b[38;5;28;01mimport\u001b[39;00m LanguageModelSkill\n",
      "\u001b[1;31mModuleNotFoundError\u001b[0m: No module named 'langchain.skills'"
     ]
    }
   ],
   "source": [
    "from langchain.skills import LanguageModelSkill"
   ]
  },
  {
   "cell_type": "code",
   "execution_count": 9,
   "metadata": {},
   "outputs": [
    {
     "ename": "NameError",
     "evalue": "name 'LanguageModelSkill' is not defined",
     "output_type": "error",
     "traceback": [
      "\u001b[1;31m---------------------------------------------------------------------------\u001b[0m",
      "\u001b[1;31mNameError\u001b[0m                                 Traceback (most recent call last)",
      "Cell \u001b[1;32mIn[9], line 1\u001b[0m\n\u001b[1;32m----> 1\u001b[0m lm_skill \u001b[38;5;241m=\u001b[39m LanguageModelSkill(model\u001b[38;5;241m=\u001b[39mmodel_id)\n",
      "\u001b[1;31mNameError\u001b[0m: name 'LanguageModelSkill' is not defined"
     ]
    }
   ],
   "source": [
    "lm_skill = LanguageModelSkill(model=model_id)"
   ]
  },
  {
   "cell_type": "code",
   "execution_count": null,
   "metadata": {},
   "outputs": [],
   "source": []
  }
 ],
 "metadata": {
  "kernelspec": {
   "display_name": "base",
   "language": "python",
   "name": "python3"
  },
  "language_info": {
   "codemirror_mode": {
    "name": "ipython",
    "version": 3
   },
   "file_extension": ".py",
   "mimetype": "text/x-python",
   "name": "python",
   "nbconvert_exporter": "python",
   "pygments_lexer": "ipython3",
   "version": "3.11.5"
  }
 },
 "nbformat": 4,
 "nbformat_minor": 2
}
