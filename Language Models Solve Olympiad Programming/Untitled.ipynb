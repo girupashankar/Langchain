{
 "cells": [
  {
   "cell_type": "markdown",
   "id": "8c23b354-3d5b-4927-8d80-af73a6fe63c4",
   "metadata": {},
   "source": [
    "## Setup \n",
    "We will need to install some dependencies, fetch the Olympiad data set and define a utility function to help run the candidate solutions to see if they pass the test cases. First install the requirements."
   ]
  },
  {
   "cell_type": "code",
   "execution_count": 1,
   "id": "747c77dd-ebdf-4e8e-b83f-6223bdae597d",
   "metadata": {
    "tags": []
   },
   "outputs": [
    {
     "name": "stderr",
     "output_type": "stream",
     "text": [
      "ERROR: Could not find a version that satisfies the requirement langchian (from versions: none)\n",
      "ERROR: No matching distribution found for langchian\n"
     ]
    },
    {
     "name": "stdout",
     "output_type": "stream",
     "text": [
      "Defaulting to user installation because normal site-packages is not writeable\n",
      "Collecting langgraph\n",
      "  Obtaining dependency information for langgraph from https://files.pythonhosted.org/packages/04/ba/ade7ffc8d6115a36b71bbf60bc878d60e12bd4a078f45ea4dd8918c5be7d/langgraph-0.0.39-py3-none-any.whl.metadata\n",
      "  Using cached langgraph-0.0.39-py3-none-any.whl.metadata (43 kB)\n",
      "Requirement already satisfied: langsmith in c:\\users\\girupa shankar\\appdata\\roaming\\python\\python311\\site-packages (0.1.29)\n",
      "Collecting langsmith\n",
      "  Obtaining dependency information for langsmith from https://files.pythonhosted.org/packages/d5/25/5b11df1caf58988a18b98e216f9fa4bdf4012c0f4043318093939674afc6/langsmith-0.1.51-py3-none-any.whl.metadata\n",
      "  Using cached langsmith-0.1.51-py3-none-any.whl.metadata (13 kB)\n",
      "Collecting langchain_anthropic\n",
      "  Obtaining dependency information for langchain_anthropic from https://files.pythonhosted.org/packages/cc/2b/7e44f8d1617fb4be475d928e921b1a36903e600fd45d66bfcefbbb4cbd8b/langchain_anthropic-0.1.11-py3-none-any.whl.metadata\n",
      "  Using cached langchain_anthropic-0.1.11-py3-none-any.whl.metadata (2.1 kB)\n",
      "Requirement already satisfied: datasets in c:\\programdata\\anaconda3\\lib\\site-packages (2.12.0)\n",
      "Collecting datasets\n",
      "  Obtaining dependency information for datasets from https://files.pythonhosted.org/packages/89/a9/8e097f79d2941a2f96e33f57032957429a79f66c8252ac7fcce586a43406/datasets-2.19.0-py3-none-any.whl.metadata\n",
      "  Using cached datasets-2.19.0-py3-none-any.whl.metadata (19 kB)\n"
     ]
    }
   ],
   "source": [
    "%%capture --no-stderr\n",
    "%pip install -U langgraph langsmith langchain_anthropic datasets langchian langchainhub"
   ]
  },
  {
   "cell_type": "code",
   "execution_count": null,
   "id": "eaba62bb-d496-4b7c-b3dd-300f1b83a64d",
   "metadata": {},
   "outputs": [],
   "source": [
    "import get pass "
   ]
  }
 ],
 "metadata": {
  "kernelspec": {
   "display_name": "Python 3",
   "language": "python",
   "name": "python3"
  },
  "language_info": {
   "codemirror_mode": {
    "name": "ipython",
    "version": 3
   },
   "file_extension": ".py",
   "mimetype": "text/x-python",
   "name": "python",
   "nbconvert_exporter": "python",
   "pygments_lexer": "ipython3",
   "version": "3.11.5"
  }
 },
 "nbformat": 4,
 "nbformat_minor": 5
}
